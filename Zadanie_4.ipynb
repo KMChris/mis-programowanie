{
 "cells": [
  {
   "cell_type": "markdown",
   "metadata": {},
   "source": [
    "# Zadanie domowe nr 4"
   ]
  },
  {
   "cell_type": "code",
   "execution_count": 1,
   "metadata": {},
   "outputs": [],
   "source": [
    "def pascal(n=1, trojkat=True):\n",
    "    \"\"\"\n",
    "    Tworzy listę n-warstw trójkąta Pascala.\n",
    "    \n",
    "    Argumenty:\n",
    "        n: liczba warstw trójkąta Pascala (domyślnie 1)\n",
    "        trojkat: jeśli prawda to zwrócić wszystkie warstwy\n",
    "                 przeciwnym wypadku jedynie ostatnią (domyślnie prawda)\n",
    "    Zwraca:\n",
    "        Listę list zawierającą warstwy trójkąta Pascala\n",
    "        lub listę zawierającą ostatnią wartwę\n",
    "    \"\"\"\n",
    "    pascal_list = [[1], [1, 1]]\n",
    "    for i in range(1, n):\n",
    "        temp = [1]\n",
    "        for j in range(len(pascal_list[i]) - 1):\n",
    "            temp.append(pascal_list[i][j] + pascal_list[i][j + 1])\n",
    "        temp.extend([1])\n",
    "        pascal_list.append(temp)\n",
    "    if trojkat:\n",
    "        if n == 0: return [[1]]\n",
    "        return pascal_list\n",
    "    else:\n",
    "        if n == 0: return [1]\n",
    "        return pascal_list[-1]"
   ]
  },
  {
   "cell_type": "code",
   "execution_count": 2,
   "metadata": {},
   "outputs": [],
   "source": [
    "def pascal_napis(n=1, x='x', y='y'):\n",
    "    \"\"\"Zwraca ciąg znaków reprezentujący rozwinięcie dwumianu Newtona.\"\"\"\n",
    "    output = ''\n",
    "    for i, element in enumerate(pascal(n, False)):\n",
    "        output += (f'{element}' if element > 1 else '') \\\n",
    "                  + ('*' if i > 0 and n - i > 0 else '') \\\n",
    "                  + (f'{x}' if n - i > 0 else '') \\\n",
    "                  + (f'^{n - i}' if n - i > 1 else '') \\\n",
    "                  + ('*' if i > 0 and n - i > 0 else '') \\\n",
    "                  + (f'{y}' if i > 0 and not n == 0 else '') \\\n",
    "                  + (f'^{i}' if i > 1 else '') \\\n",
    "                  + (' + ' if n - i > 0 else '') \\\n",
    "                  + ('1' if n == 0 else '')\n",
    "    return output"
   ]
  },
  {
   "cell_type": "code",
   "execution_count": 3,
   "metadata": {},
   "outputs": [],
   "source": [
    "def piramida_pascal(n=1):\n",
    "    \"\"\"\n",
    "    Tworzy listę n-warstw piramidy Pascala.\n",
    "    \n",
    "    Argumenty:\n",
    "        n: liczba warstw piramidy Pascala (domyślnie 1)\n",
    "    Zwraca:\n",
    "        Listę list zawierającą warstwy piramidy Pascala\n",
    "    \"\"\"\n",
    "    pyramid = pascal(n)\n",
    "    for i, layer in enumerate(pyramid):\n",
    "        for j, number in enumerate(layer):\n",
    "            pyramid[i][j] = number * pyramid[-1][i]\n",
    "    return pyramid"
   ]
  },
  {
   "cell_type": "code",
   "execution_count": 4,
   "metadata": {},
   "outputs": [],
   "source": [
    "def piramida_pascal_napis(n=1, x='x', y='y', z='z'):\n",
    "    \"\"\"Zwraca ciąg znaków reprezentujący rozwinięcie trójmianu.\"\"\"\n",
    "    out = ''\n",
    "    for i, layer in enumerate(piramida_pascal(n)):\n",
    "        for j, element in enumerate(layer):\n",
    "            out += (f'{element}' if element > 1 else '') \\\n",
    "                + ('*' if element > 1 else '') \\\n",
    "                + (f'{x}' if n - i > 0 else '') \\\n",
    "                + (f'^{n - i}' if n - i > 1 else '') \\\n",
    "                + ('*' if j > 0 and n - i > 0 else '') \\\n",
    "                + (f'{y}' if j > 0 and not n == 0 else '') \\\n",
    "                + (f'^{j}' if j > 1 else '') \\\n",
    "                + ('*' if len(layer) - j > 1 and (i != n or j != 0) else '') \\\n",
    "                + (f'{z}' if len(layer) - j > 1 and not n == 0 else '') \\\n",
    "                + (f'^{len(layer) - j - 1}' if len(layer) - j > 2 else '') \\\n",
    "                + (' + ' if n - j > 0 else '') \\\n",
    "                + ('1' if n == 0 else '')\n",
    "    return out"
   ]
  },
  {
   "cell_type": "markdown",
   "metadata": {},
   "source": [
    "### Testy:"
   ]
  },
  {
   "cell_type": "code",
   "execution_count": 5,
   "metadata": {},
   "outputs": [
    {
     "data": {
      "text/plain": [
       "True"
      ]
     },
     "execution_count": 5,
     "metadata": {},
     "output_type": "execute_result"
    }
   ],
   "source": [
    "eval(pascal_napis(20, \"6\", \"9\").replace(\"^\", \"**\")) == 15**20"
   ]
  },
  {
   "cell_type": "code",
   "execution_count": 6,
   "metadata": {},
   "outputs": [
    {
     "data": {
      "text/plain": [
       "True"
      ]
     },
     "execution_count": 6,
     "metadata": {},
     "output_type": "execute_result"
    }
   ],
   "source": [
    "eval(pascal_napis(10, \"3\", \"1\").replace(\"^\", \"**\")) == 4**10"
   ]
  },
  {
   "cell_type": "code",
   "execution_count": 7,
   "metadata": {},
   "outputs": [
    {
     "data": {
      "text/plain": [
       "True"
      ]
     },
     "execution_count": 7,
     "metadata": {},
     "output_type": "execute_result"
    }
   ],
   "source": [
    "eval(pascal_napis(20, \"6\", \"(-2)\").replace(\"^\", \"**\")) == 4**20"
   ]
  },
  {
   "cell_type": "code",
   "execution_count": 8,
   "metadata": {},
   "outputs": [
    {
     "data": {
      "text/plain": [
       "True"
      ]
     },
     "execution_count": 8,
     "metadata": {},
     "output_type": "execute_result"
    }
   ],
   "source": [
    "eval(piramida_pascal_napis(10, \"1\", \"1\", \"1\").replace(\"^\",\"**\")) == 59049"
   ]
  },
  {
   "cell_type": "code",
   "execution_count": 9,
   "metadata": {},
   "outputs": [
    {
     "data": {
      "text/plain": [
       "True"
      ]
     },
     "execution_count": 9,
     "metadata": {},
     "output_type": "execute_result"
    }
   ],
   "source": [
    "eval(piramida_pascal_napis(20, \"1\", \"0\", \"1\").replace(\"^\",\"**\")) == 1024**2"
   ]
  }
 ],
 "metadata": {
  "kernelspec": {
   "display_name": "Python 3",
   "language": "python",
   "name": "python3"
  },
  "language_info": {
   "codemirror_mode": {
    "name": "ipython",
    "version": 3
   },
   "file_extension": ".py",
   "mimetype": "text/x-python",
   "name": "python",
   "nbconvert_exporter": "python",
   "pygments_lexer": "ipython3",
   "version": "3.8.3"
  }
 },
 "nbformat": 4,
 "nbformat_minor": 4
}
