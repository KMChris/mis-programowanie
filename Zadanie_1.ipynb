{
 "cells": [
  {
   "cell_type": "markdown",
   "metadata": {},
   "source": [
    "<h1>Zadanie domowe 1</h1>\n",
    "<h3>Treść zadania:</h3>\n",
    "Z samolotu lecącego (równolegle do podłoża) na pułapie $h_0$ ze stałą prędkością $v_s$,\n",
    "zrzucany jest ładunek.<br>\n",
    "Z jaką prędkością początkową $v_0$ należy wystrzelić pocisk z działa znajdującego się w odległości $l_0$ od punktu zrzutu, którego lufa nachylona jest do poziomu pod kątem $\\alpha \\in (0^{\\circ}, 90^{\\circ})$, aby pocisk trafił w ładunek?<br>\n",
    "Po jakimczasie $t$, na jakiej wysokości $h$ oraz w jakiej odległości $l$ od działa, ładunek zostanie zestrzelony?<br>\n",
    "Opór powietrza zaniedbujemy."
   ]
  },
  {
   "cell_type": "markdown",
   "metadata": {},
   "source": [
    "<h3>Zestaw danych nr 1:</h3>\n",
    "$h_0=4000m$<br>\n",
    "$l_0=5650m$<br>\n",
    "$a=63^{\\circ}$<br>\n",
    "$v_s=220\\frac{m}{s}$"
   ]
  },
  {
   "cell_type": "code",
   "execution_count": 1,
   "metadata": {},
   "outputs": [],
   "source": [
    "from math import sin, cos, radians\n",
    "\n",
    "h_0=4000\n",
    "l_0=5650\n",
    "a=radians(63)\n",
    "v_s=220\n",
    "g=9.81"
   ]
  },
  {
   "cell_type": "markdown",
   "metadata": {},
   "source": [
    "$v_0=\\dfrac{h_0v_s}{l_0\\sin(a)-h_0\\cos(a)}$"
   ]
  },
  {
   "cell_type": "code",
   "execution_count": 2,
   "metadata": {},
   "outputs": [],
   "source": [
    "v=h_0*v_s/(l_0*sin(a)-h_0*cos(a))"
   ]
  },
  {
   "cell_type": "markdown",
   "metadata": {},
   "source": [
    "$t=\\dfrac{h_0}{v_0\\sin(a)}$"
   ]
  },
  {
   "cell_type": "code",
   "execution_count": 3,
   "metadata": {},
   "outputs": [],
   "source": [
    "t=h_0/(v*sin(a))"
   ]
  },
  {
   "cell_type": "markdown",
   "metadata": {},
   "source": [
    "$h=h_0-\\dfrac{1}{2}gt^2$"
   ]
  },
  {
   "cell_type": "code",
   "execution_count": 4,
   "metadata": {},
   "outputs": [],
   "source": [
    "h=h_0-1/2*g*t**2"
   ]
  },
  {
   "cell_type": "markdown",
   "metadata": {},
   "source": [
    "$l=l_0-v_st$"
   ]
  },
  {
   "cell_type": "code",
   "execution_count": 5,
   "metadata": {},
   "outputs": [],
   "source": [
    "l=l_0-v_s*t"
   ]
  },
  {
   "cell_type": "code",
   "execution_count": 6,
   "metadata": {},
   "outputs": [
    {
     "name": "stdout",
     "output_type": "stream",
     "text": [
      "v =    273.44 m/s\n",
      "t =     16.42 s\n",
      "h =   2677.90 m\n",
      "l =   2038.10 m\n"
     ]
    }
   ],
   "source": [
    "print('v = {:>9.2f} m/s\\nt = {:>9.2f} s\\nh = {:>9.2f} m\\nl = {:>9.2f} m'.format(v, t, h, l))"
   ]
  },
  {
   "cell_type": "markdown",
   "metadata": {},
   "source": [
    "<h3>Zestaw danych nr 2:</h3>\n",
    "$h_0=8300m$<br>\n",
    "$l_0=14000m$<br>\n",
    "$a=72^{\\circ}$<br>\n",
    "$v_s=300\\frac{m}{s}$"
   ]
  },
  {
   "cell_type": "code",
   "execution_count": 7,
   "metadata": {},
   "outputs": [],
   "source": [
    "h_0, l_0, a, v_s = 8300, 14000, radians(72), 300"
   ]
  },
  {
   "cell_type": "code",
   "execution_count": 8,
   "metadata": {},
   "outputs": [],
   "source": [
    "v=h_0*v_s/(l_0*sin(a)-h_0*cos(a))\n",
    "t=h_0/(v*sin(a))\n",
    "h=h_0-(1/2*g*t**2)\n",
    "l=l_0-v_s*t"
   ]
  },
  {
   "cell_type": "code",
   "execution_count": 9,
   "metadata": {},
   "outputs": [
    {
     "name": "stdout",
     "output_type": "stream",
     "text": [
      "v =    231.63 m/s\n",
      "t =     37.68 s\n",
      "h =   1336.99 m\n",
      "l =   2696.83 m\n"
     ]
    }
   ],
   "source": [
    "print('v = {:>9.2f} m/s\\nt = {:>9.2f} s\\nh = {:>9.2f} m\\nl = {:>9.2f} m'.format(v, t, h, l))"
   ]
  }
 ],
 "metadata": {
  "kernelspec": {
   "display_name": "Python 3",
   "language": "python",
   "name": "python3"
  },
  "language_info": {
   "codemirror_mode": {
    "name": "ipython",
    "version": 3
   },
   "file_extension": ".py",
   "mimetype": "text/x-python",
   "name": "python",
   "nbconvert_exporter": "python",
   "pygments_lexer": "ipython3",
   "version": "3.8.3"
  }
 },
 "nbformat": 4,
 "nbformat_minor": 4
}
