{
 "cells": [
  {
   "cell_type": "markdown",
   "metadata": {},
   "source": [
    "# Zadanie 11"
   ]
  },
  {
   "cell_type": "code",
   "execution_count": 1,
   "metadata": {},
   "outputs": [],
   "source": [
    "import math, random"
   ]
  },
  {
   "cell_type": "code",
   "execution_count": 2,
   "metadata": {},
   "outputs": [],
   "source": [
    "OFFSET = 64  # ASCII offset\n",
    "BITS = 5  # Bits per one char\n",
    "BIN_MAX = 2 ** BITS  # Binary max value"
   ]
  },
  {
   "cell_type": "code",
   "execution_count": 3,
   "metadata": {},
   "outputs": [],
   "source": [
    "def generate_primes(n):\n",
    "    \"\"\"\n",
    "    Generates prime numbers\n",
    "    n - maximum prime number\n",
    "    \"\"\"\n",
    "    primes = [False, False] + [True] * (n - 2)\n",
    "    for i, is_prime in enumerate(primes):\n",
    "        if is_prime:\n",
    "            yield i\n",
    "            for j in range(i * i, n, i):\n",
    "                primes[j] = False"
   ]
  },
  {
   "cell_type": "code",
   "execution_count": 4,
   "metadata": {},
   "outputs": [],
   "source": [
    "def generate_keys(n):\n",
    "    \"\"\"\n",
    "    Generates key pair for RSA algorithm\n",
    "    n - maximum prime number\n",
    "    \"\"\"\n",
    "    primes = list(generate_primes(n))\n",
    "    p, q = random.choices(primes[-len(primes) // 10:], k=2)\n",
    "    z, phi, e, x = p*q, (p-1)*(q-1), 2, 1\n",
    "    while math.gcd(e, phi) != 1:\n",
    "        e += 1\n",
    "    while not ((1 + x*phi) / e).is_integer():\n",
    "        x += 1\n",
    "    return (z, e), (z, int((1 + x*phi) / e))"
   ]
  },
  {
   "cell_type": "code",
   "execution_count": 5,
   "metadata": {},
   "outputs": [],
   "source": [
    "def encrypt(message, key):\n",
    "    \"\"\"\n",
    "    Encrypts message using RSA algorithm\n",
    "    message - message to encrypt, must be\n",
    "        a positive integer lower than p*q\n",
    "    key - public key\n",
    "    \"\"\"\n",
    "    if message < key[0]:\n",
    "        return pow(message, key[1], key[0])"
   ]
  },
  {
   "cell_type": "code",
   "execution_count": 6,
   "metadata": {},
   "outputs": [],
   "source": [
    "def decrypt(message, key):\n",
    "    \"\"\"\n",
    "    Decrypts message using RSA algorithm\n",
    "    message - message to decrypt, must be\n",
    "        a positive integer lower than p*q\n",
    "    key - private key\n",
    "    \"\"\"\n",
    "    if message < key[0]:\n",
    "        return pow(message, key[1], key[0])"
   ]
  },
  {
   "cell_type": "code",
   "execution_count": 7,
   "metadata": {},
   "outputs": [],
   "source": [
    "def encrypt_text(text, key):\n",
    "    \"\"\"\n",
    "    Encrypts text using RSA algorithm\n",
    "    text - message to encrypt (str)\n",
    "    key - public key\n",
    "    \"\"\"\n",
    "    message = encrypt(sum(ord(char) - OFFSET << BITS * i\n",
    "                          for i, char in enumerate(text)), key)\n",
    "    output = ''\n",
    "    while message != 0:\n",
    "        output += chr(message % BIN_MAX + OFFSET)\n",
    "        message >>= BITS\n",
    "    return output"
   ]
  },
  {
   "cell_type": "code",
   "execution_count": 8,
   "metadata": {},
   "outputs": [],
   "source": [
    "def decrypt_text(text, key):\n",
    "    \"\"\"\n",
    "    Decrypts text using RSA algorithm\n",
    "    text - message to decrypt (str)\n",
    "    key - private key\n",
    "    \"\"\"\n",
    "    message = decrypt(sum(ord(char) - OFFSET << BITS * i\n",
    "                          for i, char in enumerate(text)), key)\n",
    "    output = ''\n",
    "    while message != 0:\n",
    "        output += chr(message % BIN_MAX + OFFSET)\n",
    "        message >>= BITS\n",
    "    return output"
   ]
  },
  {
   "cell_type": "code",
   "execution_count": 9,
   "metadata": {},
   "outputs": [],
   "source": [
    "public_key, private_key = generate_keys(1000000)"
   ]
  },
  {
   "cell_type": "code",
   "execution_count": 10,
   "metadata": {},
   "outputs": [
    {
     "name": "stdout",
     "output_type": "stream",
     "text": [
      "ENFDTSLL\n"
     ]
    }
   ],
   "source": [
    "code = encrypt_text('RSA', public_key)\n",
    "print(code)"
   ]
  },
  {
   "cell_type": "code",
   "execution_count": 11,
   "metadata": {},
   "outputs": [
    {
     "name": "stdout",
     "output_type": "stream",
     "text": [
      "RSA\n"
     ]
    }
   ],
   "source": [
    "code = decrypt_text(code, private_key)\n",
    "print(code)"
   ]
  },
  {
   "cell_type": "code",
   "execution_count": 12,
   "metadata": {},
   "outputs": [
    {
     "name": "stdout",
     "output_type": "stream",
     "text": [
      "GHVJRGCT\n"
     ]
    }
   ],
   "source": [
    "code = encrypt_text('TEST', public_key)\n",
    "print(code)"
   ]
  },
  {
   "cell_type": "code",
   "execution_count": 13,
   "metadata": {},
   "outputs": [
    {
     "name": "stdout",
     "output_type": "stream",
     "text": [
      "TEST\n"
     ]
    }
   ],
   "source": [
    "code = decrypt_text(code, private_key)\n",
    "print(code)"
   ]
  }
 ],
 "metadata": {
  "kernelspec": {
   "display_name": "Python 3",
   "language": "python",
   "name": "python3"
  },
  "language_info": {
   "codemirror_mode": {
    "name": "ipython",
    "version": 3
   },
   "file_extension": ".py",
   "mimetype": "text/x-python",
   "name": "python",
   "nbconvert_exporter": "python",
   "pygments_lexer": "ipython3",
   "version": "3.8.5"
  }
 },
 "nbformat": 4,
 "nbformat_minor": 4
}
