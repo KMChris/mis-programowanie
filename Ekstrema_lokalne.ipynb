{
 "cells": [
  {
   "cell_type": "code",
   "execution_count": 1,
   "metadata": {},
   "outputs": [],
   "source": [
    "import math\n",
    "import numpy as np\n",
    "import pandas as pd\n",
    "from matplotlib import pyplot as plt\n",
    "import matplotlib as mpl\n",
    "mpl.rcParams['figure.dpi'] = 200"
   ]
  },
  {
   "cell_type": "code",
   "execution_count": 2,
   "metadata": {},
   "outputs": [
    {
     "name": "stdout",
     "output_type": "stream",
     "text": [
      "[[1 2 3 4]\n",
      " [5 6 5 6]\n",
      " [1 2 3 4]\n",
      " [5 6 5 7]]\n"
     ]
    }
   ],
   "source": [
    "a = np.array([[1, 2, 3, 4],\n",
    "              [5, 6, 5, 6],\n",
    "              [1, 2, 3, 4],\n",
    "              [5, 6, 5, 7]])\n",
    "print(a)"
   ]
  },
  {
   "cell_type": "code",
   "execution_count": 3,
   "metadata": {},
   "outputs": [],
   "source": [
    "def extrema_lokalne(a, n):\n",
    "    \"\"\"\n",
    "    Znajduje ektrema lokalne tablicy dwuwymiarowej\n",
    "    \n",
    "    Parametry:\n",
    "        a - tablica dwuwymiarowa, dla której mają być znalezione ektrema\n",
    "        n - otoczenie punktu (musi być liczbą nieparzystą)\n",
    "        \n",
    "    Zwraca:\n",
    "        maximum, minimum - dwie listy zawierające indeksy ekstremów lokalnych\n",
    "                           pierwsza lista to maksima, a druga to minima\n",
    "    \"\"\"\n",
    "    maximum, minimum = [], []\n",
    "    for i, row in enumerate(a):\n",
    "        for j, element in enumerate(row):\n",
    "            check_array=[]\n",
    "            for k in range(-n//2+1, n//2+1):\n",
    "                if i+k<0:\n",
    "                    continue\n",
    "                for l in range(-n//2+1, n//2+1):\n",
    "                    if j+l<0 or l==k==0:\n",
    "                        continue\n",
    "                    try:\n",
    "                        check_array.append(a[i+k, j+l])\n",
    "                    except IndexError:\n",
    "                        continue\n",
    "            if np.all(element>check_array):\n",
    "                maximum.append((i, j))\n",
    "            if np.all(element<check_array):\n",
    "                minimum.append((i, j))\n",
    "    return maximum, minimum"
   ]
  },
  {
   "cell_type": "code",
   "execution_count": 4,
   "metadata": {},
   "outputs": [
    {
     "name": "stdout",
     "output_type": "stream",
     "text": [
      "Maksyma lokalne: [(1, 1), (1, 3), (3, 1), (3, 3)]\n",
      "Minima lokalne: [(0, 0), (2, 0)]\n"
     ]
    }
   ],
   "source": [
    "maksima, minima = extrema_lokalne(a, 3)\n",
    "print('Maksyma lokalne:', maksima)\n",
    "print('Minima lokalne:', minima)"
   ]
  },
  {
   "cell_type": "code",
   "execution_count": 5,
   "metadata": {},
   "outputs": [
    {
     "data": {
      "image/png": "[encoded data removed]",
      "text/plain": [
       "<Figure size 800x800 with 1 Axes>"
      ]
     },
     "metadata": {
      "needs_background": "light"
     },
     "output_type": "display_data"
    }
   ],
   "source": [
    "plt.matshow(a)\n",
    "plt.show()"
   ]
  },
  {
   "cell_type": "code",
   "execution_count": 6,
   "metadata": {},
   "outputs": [],
   "source": [
    "arr=np.array([[[7, 2, 3], [2, 3, 4], [4, 5, 6]],\n",
    "            [[1, 2, 3], [2, 6, 4], [4, 5, 7]],\n",
    "            [[1, 0, 3], [2, 3, 4], [4, 5, 6]]])"
   ]
  },
  {
   "cell_type": "code",
   "execution_count": 7,
   "metadata": {},
   "outputs": [],
   "source": [
    "def extrema_lokalne_3d(A, N):\n",
    "    \"\"\"\n",
    "    Znajduje ektrema lokalne tablicy trójwymiarowej\n",
    "\n",
    "    Parametry:\n",
    "        a - tablica trójwymiarowa, dla której mają być znalezione ektrema\n",
    "        n - otoczenie punktu (musi być liczbą nieparzystą)\n",
    "\n",
    "    Zwraca:\n",
    "        maximum, minimum - dwie listy zawierające indeksy ekstremów lokalnych\n",
    "                           pierwsza lista to maksima, a druga to minima\n",
    "    \"\"\"\n",
    "    maximum, minimum = [], []\n",
    "    for i, array in enumerate(A):\n",
    "        for j, row in enumerate(array):\n",
    "            for k, element in enumerate(row):\n",
    "                check_array = []\n",
    "                for l in range(-N // 2 + 1, N // 2 + 1):\n",
    "                    if i + l < 0:\n",
    "                        continue\n",
    "                    for m in range(-N // 2 + 1, N // 2 + 1):\n",
    "                        if j + m < 0:\n",
    "                                continue\n",
    "                        for n in range(-N // 2 + 1, N // 2 + 1):\n",
    "                            if k + n < 0 or n == m == l == 0:\n",
    "                                continue\n",
    "                            try:\n",
    "                                check_array.append(A[i + l, j + m, k + n])\n",
    "                            except IndexError:\n",
    "                                continue\n",
    "                if np.all(element > check_array):\n",
    "                    maximum.append((i, j, k))\n",
    "                if np.all(element < check_array):\n",
    "                    minimum.append((i, j, k))\n",
    "    return maximum, minimum"
   ]
  },
  {
   "cell_type": "code",
   "execution_count": 8,
   "metadata": {},
   "outputs": [
    {
     "name": "stdout",
     "output_type": "stream",
     "text": [
      "Maksyma lokalne: [(0, 0, 0), (1, 2, 2)]\n",
      "Minima lokalne: [(2, 0, 1)]\n"
     ]
    }
   ],
   "source": [
    "maksima, minima = extrema_lokalne_3d(arr, 3)\n",
    "print('Maksyma lokalne:', maksima)\n",
    "print('Minima lokalne:', minima)"
   ]
  },
  {
   "cell_type": "code",
   "execution_count": 9,
   "metadata": {
    "jupyter": {
     "source_hidden": true
    }
   },
   "outputs": [],
   "source": [
    "def extrema_lokalne(a):\n",
    "    \"\"\"\n",
    "    Znajduje ektrema lokalne tablicy dwuwymiarowej\n",
    "    \n",
    "    Parametry:\n",
    "        a - tablica dwuwymiarowa, dla której mają być znalezione ektrema\n",
    "        \n",
    "    Zwraca:\n",
    "        maximum, minimum - dwie listy zawierające indeksy ekstremów lokalnych\n",
    "                           pierwsza lista to maksima, a druga to minima\n",
    "    \"\"\"\n",
    "    maximum, minimum = [], []\n",
    "    for i, row in enumerate(a):\n",
    "        for j, element in enumerate(row):\n",
    "\n",
    "            # Rogi\n",
    "            if i==0 and j==0:\n",
    "                check_array=np.array((a[1, 0], a[1, 1], a[0, 1]))\n",
    "            elif i==len(a)-1 and j==len(row)-1:\n",
    "                check_array=np.array((a[-2, -2], a[-2, -1], a[-1, -2]))\n",
    "            elif i==len(a)-1 and j==0:\n",
    "                check_array=np.array((a[-2, 0], a[-2, 1], a[-1, 1]))\n",
    "            elif i==0 and j==len(row)-1:\n",
    "                check_array=np.array((a[1, -2], a[1, -1], a[0, -2]))\n",
    "\n",
    "            # Krawędzie\n",
    "            elif i==0 and 0<j<len(row)-1:\n",
    "                check_array=np.array((a[i, j-1], a[i, j+1], a[i+1, j-1], a[i+1, j], a[i+1, j+1]))\n",
    "            elif 0<i<len(a)-1 and j==len(row)-1:\n",
    "                check_array=np.array((a[i-1, j], a[i+1, j], a[i-1, j-1], a[i, j-1], a[i+1, j-1]))\n",
    "            elif i==len(a)-1 and 0<j<len(row)-1:\n",
    "                check_array=np.array((a[i, j-1], a[i, j+1], a[i-1, j-1], a[i-1, j], a[i-1, j+1]))\n",
    "            elif 0<i<len(a)-1 and j==0:\n",
    "                check_array=np.array((a[i-1, j], a[i+1, j], a[i-1, j+1], a[i, j+1], a[i+1, j+1]))\n",
    "\n",
    "            # Centry\n",
    "            else:\n",
    "                check_array=np.array((a[i-1, j-1], a[i-1, j], a[i-1, j+1], a[i, j-1], a[i, j+1], a[i+1, j-1], a[i+1, j], a[i+1, j+1]))\n",
    "\n",
    "            if np.all(element>check_array):\n",
    "                maximum.append((i, j))\n",
    "            if np.all(element<check_array):\n",
    "                minimum.append((i, j))\n",
    "    return maximum, minimum"
   ]
  },
  {
   "cell_type": "code",
   "execution_count": 10,
   "metadata": {
    "collapsed": true,
    "jupyter": {
     "outputs_hidden": true,
     "source_hidden": true
    }
   },
   "outputs": [
    {
     "name": "stdout",
     "output_type": "stream",
     "text": [
      "Maksyma lokalne: [(1, 1), (1, 3), (3, 1), (3, 3)]\n",
      "Minima lokalne: [(0, 0), (2, 0)]\n"
     ]
    }
   ],
   "source": [
    "maksima, minima = extrema_lokalne(a)\n",
    "print('Maksyma lokalne:', maksima)\n",
    "print('Minima lokalne:', minima)"
   ]
  }
 ],
 "metadata": {
  "kernelspec": {
   "display_name": "Python 3",
   "language": "python",
   "name": "python3"
  },
  "language_info": {
   "codemirror_mode": {
    "name": "ipython",
    "version": 3
   },
   "file_extension": ".py",
   "mimetype": "text/x-python",
   "name": "python",
   "nbconvert_exporter": "python",
   "pygments_lexer": "ipython3",
   "version": "3.8.5"
  }
 },
 "nbformat": 4,
 "nbformat_minor": 4
}
