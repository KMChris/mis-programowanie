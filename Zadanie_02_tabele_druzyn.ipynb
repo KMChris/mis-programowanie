{
 "cells": [
  {
   "cell_type": "markdown",
   "metadata": {},
   "source": [
    "<h1>Zadanie domowe 2</h1>\n",
    "<h3>Co to jest Unicode?</h3>\n",
    "<b>Unicode</b> jest standardem kodowania, który składa się ze 143 859 znaków.<br>\n",
    "Może być on zaimplementowany poprzez różne kodowania znaków.<br>\n",
    "Standard ten definiują między innymi kodowania: UTF-8, UTF-16 i UTF-32.<br>\n",
    "Najczęściej stosowanym kodowaniem jest UTF-8.<br>\n",
    "UTF-8 to dominujące kodowanie w internecie (stosowane w ponad 95% stron internetowych), wykorzystuje jeden bajt dla pierwszych 128 znaków, a do 4 bajtów dla pozostałych. Pierwsze 128 kodów Unicode reprezentuje znaki ASCII, co oznacza, że każdy tekst ASCII jest również tekstem UTF-8.<br>\n",
    "Unicode ujednolica zestawy znaków, co doprowadziło do jego powszechnego i dominującego zastosowania w międzynarodowym oprogramowaniu komputerowym.<br>\n",
    "<h3>Treść zadania:</h3>\n",
    "Utwórz notatnik w którym za pomocą podstawowych operacji na napisach (bez pętli!) oraz używając odpowiednich metod dla napisów w Pythonie stworzysz dwie tabele: ”Tabela Wyników” oraz ”Porównanie wyników”.\n",
    "Tabele powinny być w pełni obramowane. Na początku notatnika powinien się znaleźć\n",
    "opis standardu kodowania <i>Unicode</i> oraz opis zadania. <b>Uwaga!</b> Do wyświetlenia każdej\n",
    "tabeli powinieneś użyć tylko jednego wywołania funkcji <i>print()</i>."
   ]
  },
  {
   "cell_type": "code",
   "execution_count": 1,
   "metadata": {},
   "outputs": [
    {
     "name": "stdout",
     "output_type": "stream",
     "text": [
      "DrużynaA,12\n",
      "DrużynaB,121\n",
      "DrużynaC,11\n",
      "DrużynaD,1\n"
     ]
    }
   ],
   "source": [
    "lines = (input().split(','), input().split(','), input().split(','), input().split(','))"
   ]
  },
  {
   "cell_type": "code",
   "execution_count": 2,
   "metadata": {},
   "outputs": [
    {
     "name": "stdout",
     "output_type": "stream",
     "text": [
      "╔═════════════════════════╗\n",
      "║     Tabela Wyników      ║\n",
      "╠═══════════════╦═════════╣\n",
      "║   DrużynaA    ║   12    ║\n",
      "╠═══════════════╬═════════╣\n",
      "║   DrużynaB    ║  121    ║\n",
      "╠═══════════════╬═════════╣\n",
      "║   DrużynaC    ║   11    ║\n",
      "╠═══════════════╬═════════╣\n",
      "║   DrużynaD    ║    1    ║\n",
      "╚═══════════════╩═════════╝\n",
      "\n"
     ]
    }
   ],
   "source": [
    "header='\\u2554'+'\\u2550'*25+'\\u2557\\n\\u2551{:^25}\\u2551\\n'.format('Tabela Wyników')+'\\u2560'+'\\u2550'*15+'\\u2566'+'\\u2550'*9+'\\u2563\\n'\n",
    "cell=lambda c1, c2: '\\u2551{:^15}\\u2551{:>5}    \\u2551\\n'.format(c1.strip(), c2.strip())\n",
    "divider='\\u2560'+'\\u2550'*15+'\\u256C'+'\\u2550'*9+'\\u2563\\n'\n",
    "footer='\\u255A'+'\\u2550'*15+'\\u2569'+'\\u2550'*9+'\\u255D\\n'\n",
    "print(header+cell(*lines[0])+divider+cell(*lines[1])+divider+cell(*lines[2])+divider+cell(*lines[3])+footer)"
   ]
  },
  {
   "cell_type": "code",
   "execution_count": 3,
   "metadata": {},
   "outputs": [
    {
     "name": "stdout",
     "output_type": "stream",
     "text": [
      "DrużynaA,19\n",
      "DrużynaB,13\n"
     ]
    }
   ],
   "source": [
    "team1, team2=input().split(','), input().split(',')"
   ]
  },
  {
   "cell_type": "code",
   "execution_count": 4,
   "metadata": {},
   "outputs": [
    {
     "name": "stdout",
     "output_type": "stream",
     "text": [
      "╔══════════════════════════════╗\n",
      "║DrużynaA (19) vs DrużynaB (13)║\n",
      "╠═══════════════╦══════════════╣\n",
      "║    Różnica    ║      6       ║\n",
      "╠═══════════════╬══════════════╣\n",
      "║   Stosunek    ║     1.46     ║\n",
      "╠═══════════════╬══════════════╣\n",
      "║  Kto lepszy?  ║   DrużynaA   ║\n",
      "╚═══════════════╩══════════════╝\n",
      "\n"
     ]
    }
   ],
   "source": [
    "teams=team1[0].strip()+' ('+team1[1].strip()+') vs '+team2[0].strip()+' ('+team2[1].strip()+')'\n",
    "length=len(teams)*(len(teams)>25)+25*(len(teams)<=25)\n",
    "header='\\u2554'+'\\u2550'*length+'\\u2557\\n\\u2551{:^{t}}\\u2551\\n'.format(teams, t=length)+'\\u2560'+'\\u2550'*15+'\\u2566'+'\\u2550'*(length-16)+'\\u2563\\n'\n",
    "cell1='\\u2551{:^15}\\u2551{:^{t}}\\u2551\\n'.format('Różnica', abs(int(team1[1])-int(team2[1])), t=(length-16))\n",
    "cell2='\\u2551{:^15}\\u2551{:^{t}.2f}\\u2551\\n'.format('Stosunek', int(team1[1])/int(team2[1]), t=(length-16))\n",
    "cell3='\\u2551{:^15}\\u2551{:^{t}}\\u2551\\n'.format('Kto lepszy?', team1[0].strip() if int(team1[1])>int(team2[1]) else (team2[0].strip() if int(team1[1])/int(team2[1])!=1 else '—'), t=(length-16))\n",
    "divider='\\u2560'+'\\u2550'*15+'\\u256C'+'\\u2550'*(length-16)+'\\u2563\\n'\n",
    "footer='\\u255A'+'\\u2550'*15+'\\u2569'+'\\u2550'*(length-16)+'\\u255D\\n'\n",
    "print(header+cell1+divider+cell2+divider+cell3+footer)"
   ]
  },
  {
   "cell_type": "markdown",
   "metadata": {},
   "source": [
    "<br><br><br><h3>One-linery</h3>"
   ]
  },
  {
   "cell_type": "code",
   "execution_count": 5,
   "metadata": {},
   "outputs": [
    {
     "name": "stdout",
     "output_type": "stream",
     "text": [
      "DrużynaA,12\n",
      "DrużynaB,121\n",
      "DrużynaC,11\n",
      "DrużynaD,1\n",
      "╔═════════════════════════╗\n",
      "║     Tabela Wyników      ║\n",
      "╠═══════════════╦═════════╣\n",
      "║   DrużynaA    ║   12    ║\n",
      "╠═══════════════╬═════════╣\n",
      "║   DrużynaB    ║  121    ║\n",
      "╠═══════════════╬═════════╣\n",
      "║   DrużynaC    ║   11    ║\n",
      "╠═══════════════╬═════════╣\n",
      "║   DrużynaD    ║    1    ║\n",
      "╚═══════════════╩═════════╝\n",
      "\n"
     ]
    }
   ],
   "source": [
    "print([('\\u2554'+'\\u2550'*25+'\\u2557\\n\\u2551{:^25}\\u2551\\n'.format('Tabela Wyników')+'\\u2560'+'\\u2550'*15+'\\u2566'+'\\u2550'*9+'\\u2563\\n'+'\\u2551{:^15}\\u2551{:>5}    \\u2551\\n'.format(line1[0].strip(), line1[1].strip())+'\\u2560'+'\\u2550'*15+'\\u256C'+'\\u2550'*9+'\\u2563\\n'+'\\u2551{:^15}\\u2551{:>5}    \\u2551\\n'.format(line2[0].strip(), line2[1].strip())+'\\u2560'+'\\u2550'*15+'\\u256C'+'\\u2550'*9+'\\u2563\\n'+'\\u2551{:^15}\\u2551{:>5}    \\u2551\\n'.format(line3[0].strip(), line3[1].strip())+'\\u2560'+'\\u2550'*15+'\\u256C'+'\\u2550'*9+'\\u2563\\n'+'\\u2551{:^15}\\u2551{:>5}    \\u2551\\n'.format(line4[0].strip(), line4[1].strip())+'\\u255A'+'\\u2550'*15+'\\u2569'+'\\u2550'*9+'\\u255D\\n') for line1, line2, line3, line4 in zip([input().split(',')], [input().split(',')], [input().split(',')], [input().split(',')],)][0])"
   ]
  },
  {
   "cell_type": "code",
   "execution_count": 6,
   "metadata": {},
   "outputs": [
    {
     "name": "stdout",
     "output_type": "stream",
     "text": [
      "DrużynaA,19\n",
      "DrużynaB,13\n",
      "╔══════════════════════════════╗\n",
      "║DrużynaA (19) vs DrużynaB (13)║\n",
      "╠═══════════════╦══════════════╣\n",
      "║    Różnica    ║      6       ║\n",
      "╠═══════════════╬══════════════╣\n",
      "║   Stosunek    ║     1.46     ║\n",
      "╠═══════════════╬══════════════╣\n",
      "║  Kto lepszy?  ║   DrużynaA   ║\n",
      "╚═══════════════╩══════════════╝\n",
      "\n"
     ]
    }
   ],
   "source": [
    "print([('\\u2554'+'\\u2550'*(len((team1[0].strip()+' ('+team1[1].strip()+') vs '+team2[0].strip()+' ('+team2[1].strip()+')'))*(len((team1[0].strip()+' ('+team1[1].strip()+') vs '+team2[0].strip()+' ('+team2[1].strip()+')'))>25)+25*(len((team1[0].strip()+' ('+team1[1].strip()+') vs '+team2[0].strip()+' ('+team2[1].strip()+')'))<=25))+'\\u2557\\n\\u2551{:^{t}}\\u2551\\n'.format((team1[0].strip()+' ('+team1[1].strip()+') vs '+team2[0].strip()+' ('+team2[1].strip()+')'), t=(len((team1[0].strip()+' ('+team1[1].strip()+') vs '+team2[0].strip()+' ('+team2[1].strip()+')'))*(len((team1[0].strip()+' ('+team1[1].strip()+') vs '+team2[0].strip()+' ('+team2[1].strip()+')'))>25)+25*(len((team1[0].strip()+' ('+team1[1].strip()+') vs '+team2[0].strip()+' ('+team2[1].strip()+')'))<=25)))+'\\u2560'+'\\u2550'*15+'\\u2566'+'\\u2550'*((len((team1[0].strip()+' ('+team1[1].strip()+') vs '+team2[0].strip()+' ('+team2[1].strip()+')'))*(len((team1[0].strip()+' ('+team1[1].strip()+') vs '+team2[0].strip()+' ('+team2[1].strip()+')'))>25)+25*(len((team1[0].strip()+' ('+team1[1].strip()+') vs '+team2[0].strip()+' ('+team2[1].strip()+')'))<=25))-16)+'\\u2563\\n'+'\\u2551{:^15}\\u2551{:^{t}}\\u2551\\n'.format('Różnica', abs(int(team1[1])-int(team2[1])), t=((len((team1[0].strip()+' ('+team1[1].strip()+') vs '+team2[0].strip()+' ('+team2[1].strip()+')'))*(len((team1[0].strip()+' ('+team1[1].strip()+') vs '+team2[0].strip()+' ('+team2[1].strip()+')'))>25)+25*(len((team1[0].strip()+' ('+team1[1].strip()+') vs '+team2[0].strip()+' ('+team2[1].strip()+')'))<=25))-16))+'\\u2560'+'\\u2550'*15+'\\u256C'+'\\u2550'*((len((team1[0].strip()+' ('+team1[1].strip()+') vs '+team2[0].strip()+' ('+team2[1].strip()+')'))*(len((team1[0].strip()+' ('+team1[1].strip()+') vs '+team2[0].strip()+' ('+team2[1].strip()+')'))>25)+25*(len((team1[0].strip()+' ('+team1[1].strip()+') vs '+team2[0].strip()+' ('+team2[1].strip()+')'))<=25))-16)+'\\u2563\\n'+'\\u2551{:^15}\\u2551{:^{t}.2f}\\u2551\\n'.format('Stosunek', int(team1[1])/int(team2[1]), t=((len((team1[0].strip()+' ('+team1[1].strip()+') vs '+team2[0].strip()+' ('+team2[1].strip()+')'))*(len((team1[0].strip()+' ('+team1[1].strip()+') vs '+team2[0].strip()+' ('+team2[1].strip()+')'))>25)+25*(len((team1[0].strip()+' ('+team1[1].strip()+') vs '+team2[0].strip()+' ('+team2[1].strip()+')'))<=25))-16))+'\\u2560'+'\\u2550'*15+'\\u256C'+'\\u2550'*((len((team1[0].strip()+' ('+team1[1].strip()+') vs '+team2[0].strip()+' ('+team2[1].strip()+')'))*(len((team1[0].strip()+' ('+team1[1].strip()+') vs '+team2[0].strip()+' ('+team2[1].strip()+')'))>25)+25*(len((team1[0].strip()+' ('+team1[1].strip()+') vs '+team2[0].strip()+' ('+team2[1].strip()+')'))<=25))-16)+'\\u2563\\n'+'\\u2551{:^15}\\u2551{:^{t}}\\u2551\\n'.format('Kto lepszy?', team1[0].strip() if int(team1[1])/int(team2[1])>1 else (team2[0].strip() if int(team1[1])/int(team2[1])!=1 else '—'), t=((len((team1[0].strip()+' ('+team1[1].strip()+') vs '+team2[0].strip()+' ('+team2[1].strip()+')'))*(len((team1[0].strip()+' ('+team1[1].strip()+') vs '+team2[0].strip()+' ('+team2[1].strip()+')'))>25)+25*(len((team1[0].strip()+' ('+team1[1].strip()+') vs '+team2[0].strip()+' ('+team2[1].strip()+')'))<=25))-16))+'\\u255A'+'\\u2550'*15+'\\u2569'+'\\u2550'*((len((team1[0].strip()+' ('+team1[1].strip()+') vs '+team2[0].strip()+' ('+team2[1].strip()+')'))*(len((team1[0].strip()+' ('+team1[1].strip()+') vs '+team2[0].strip()+' ('+team2[1].strip()+')'))>25)+25*(len((team1[0].strip()+' ('+team1[1].strip()+') vs '+team2[0].strip()+' ('+team2[1].strip()+')'))<=25))-16)+'\\u255D\\n') for team1, team2 in zip([input().split(',')], [input().split(',')],)][0])"
   ]
  }
 ],
 "metadata": {
  "kernelspec": {
   "display_name": "Python 3",
   "language": "python",
   "name": "python3"
  },
  "language_info": {
   "codemirror_mode": {
    "name": "ipython",
    "version": 3
   },
   "file_extension": ".py",
   "mimetype": "text/x-python",
   "name": "python",
   "nbconvert_exporter": "python",
   "pygments_lexer": "ipython3",
   "version": "3.8.6"
  }
 },
 "nbformat": 4,
 "nbformat_minor": 4
}
