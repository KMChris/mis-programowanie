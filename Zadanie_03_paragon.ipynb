{
 "cells": [
  {
   "cell_type": "markdown",
   "metadata": {},
   "source": [
    "<h1>Zadanie domowe nr 3</h1>"
   ]
  },
  {
   "cell_type": "code",
   "execution_count": 1,
   "metadata": {},
   "outputs": [],
   "source": [
    "shopping_list = [('Mleko św 3.2 1l', 3, 2.19, \"C\"), ('Woda mineralna', 6, 1.69, \"A\"),\n",
    "                 ('Kakao 400g', 2, 8.55, \"A\"), ('Mleko św 3.2 1l', 1, 2.19, \"C\"),\n",
    "                 ('Mleko św 3.2 1l', 2, 2.19, \"C\"), ('Cieszynskie Psz', 1, 4.99, \"A\"),\n",
    "                 ('Ser krolewski', 1, 4.69, \"C\"), ('Banan Luz', 1.042, 4.85, \"C\"),\n",
    "                 ('Ogórek szkl', 0.551, 6.99, \"C\"), ('Musli', 1, 7.99, \"C\"),\n",
    "                 ('Torba', 2, 0.49, \"A\"), ('Musli', 1, 7.99, \"C\"),\n",
    "                 ('Utopijna mrzonka', 1, 6.66, \"D\")]"
   ]
  },
  {
   "cell_type": "code",
   "execution_count": 2,
   "metadata": {},
   "outputs": [
    {
     "name": "stdout",
     "output_type": "stream",
     "text": [
      "                      PARAGON FISKALNY                      \n",
      "Mleko św 3.2 1l                                 6x2.19 zł  C\n",
      "Woda mineralna                                  6x1.69 zł  A\n",
      "Kakao 400g                                      2x8.55 zł  A\n",
      "Cieszynskie Psz                                 1x4.99 zł  A\n",
      "Ser krolewski                                   1x4.69 zł  C\n",
      "Banan Luz                                   1.042x4.85 zł  C\n",
      "Ogórek szkl                                 0.551x6.99 zł  C\n",
      "Musli                                           2x7.99 zł  C\n",
      "Torba                                           2x0.49 zł  A\n",
      "Utopijna mrzonka                                1x6.66 zł  D\n",
      "————————————————————————————————————————————————————————————\n",
      "Sp. op. C               42.72 PTU      5%            2.03 zł\n",
      "Sp. op. A               33.21 PTU     23%            6.21 zł\n",
      "Suma PTU                                             8.24 zł\n",
      "————————————————————————————————————————————————————————————\n",
      "SUMA PTU                                            82.59 zł\n"
     ]
    }
   ],
   "source": [
    "vat = {'A': 0.23, 'B': 0.08, 'C': 0.05, 'D': 0.0}\n",
    "dictionary, vat_type, vat_prices = {}, {}, {}\n",
    "vat_sum, total = 0, 0\n",
    "\n",
    "for product in shopping_list:\n",
    "    if product[0] not in dictionary:\n",
    "        dictionary[product[0]] = [product[1], product[2], product[3]]\n",
    "    else:\n",
    "        dictionary[product[0]][0] += product[1]\n",
    "\n",
    "shopping_list = [(key, *values) for key, values in dictionary.items()]\n",
    "\n",
    "print(f'{\"PARAGON FISKALNY\":^60}')\n",
    "\n",
    "for product in shopping_list:\n",
    "    total += product[2] * product[1]\n",
    "    print('{:<40}{:>14} zł  {}'.format(product[0], (f'{product[1]:.3f}x{product[2]:.2f}'\n",
    "                                                    if type(product[1]) == float\n",
    "                                                    else f'{int(product[1]):0d}x{product[2]:.2f}'), product[3]))\n",
    "    if product[3] not in vat_type:\n",
    "        vat_type[product[3]] = product[2] * product[1]\n",
    "    else:\n",
    "        vat_type[product[3]] += product[2] * product[1]\n",
    "\n",
    "print('—' * 60)\n",
    "\n",
    "for typ in vat_type.keys():\n",
    "    vat_sum += abs(vat_type[typ] / (vat[typ] + 1) - vat_type[typ])\n",
    "    if typ != 'D':\n",
    "        print('Sp. op.', typ, f'{vat_type[typ]:>19.2f} PTU',\n",
    "              f'{int(vat[typ] * 100):>6d}%',\n",
    "              f'{abs(vat_type[typ] / (vat[typ] + 1) - vat_type[typ]):>15.2f} zł')\n",
    "\n",
    "print('Suma PTU' + f'{vat_sum:>49.2f} zł')\n",
    "print('—' * 60)\n",
    "print('SUMA PTU' + f'{total:>49.2f} zł')"
   ]
  }
 ],
 "metadata": {
  "kernelspec": {
   "display_name": "Python 3",
   "language": "python",
   "name": "python3"
  },
  "language_info": {
   "codemirror_mode": {
    "name": "ipython",
    "version": 3
   },
   "file_extension": ".py",
   "mimetype": "text/x-python",
   "name": "python",
   "nbconvert_exporter": "python",
   "pygments_lexer": "ipython3",
   "version": "3.8.3"
  }
 },
 "nbformat": 4,
 "nbformat_minor": 4
}
