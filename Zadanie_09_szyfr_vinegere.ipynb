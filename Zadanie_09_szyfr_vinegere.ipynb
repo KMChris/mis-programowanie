{
 "cells": [
  {
   "cell_type": "markdown",
   "metadata": {},
   "source": [
    "# Zadanie 9"
   ]
  },
  {
   "cell_type": "code",
   "execution_count": 1,
   "metadata": {},
   "outputs": [],
   "source": [
    "from collections import Counter"
   ]
  },
  {
   "cell_type": "code",
   "execution_count": 2,
   "metadata": {},
   "outputs": [],
   "source": [
    "def zaszyfruj(wiadomosc, klucz):\n",
    "    \"\"\"Szyfruje wiadomość za pomocą szyfru vinegere'a\n",
    "\n",
    "    Parametry:\n",
    "        wiadomosc - wiadomość do zaszyfrowania\n",
    "        klucz - klucz użyty do zaszyfrowania\n",
    "\n",
    "    Zwraca:\n",
    "        zaszyfrowana wiadomość\n",
    "\n",
    "    Przykład użycia:\n",
    "    >>> zaszyfruj('THEBROWNFOXJUMPSOVERLAZYDOG', 'FOX')\n",
    "    'YVBGFLBBCTLGZAMXCSJFIFNVICD'\n",
    "\n",
    "    Klucz może składać się z małych liter, ale zostaną zamienione na wielkie:\n",
    "    >>> zaszyfruj('INFORMATYKA', 'programowanie')\n",
    "    'XETUIMMHUKN'\n",
    "\n",
    "    Wiadomość również może składać się z małych liter:\n",
    "    >>> zaszyfruj('informatyka', 'programowanie')\n",
    "    'XETUIMMHUKN'\n",
    "    \"\"\"\n",
    "    return \"\".join([chr((ord(char) + ord(klucz.upper()[i % len(klucz)])) % 26 + 65)\n",
    "                    for i, char in enumerate(wiadomosc.upper())])"
   ]
  },
  {
   "cell_type": "code",
   "execution_count": 3,
   "metadata": {},
   "outputs": [],
   "source": [
    "def deszyfruj(wiadomosc, klucz):\n",
    "    \"\"\"Odszyfrowuje wiadomość za pomocą szyfru vinegere'a\n",
    "\n",
    "    Parametry:\n",
    "        wiadomosc - wiadomość do odszyfrowania\n",
    "        klucz - klucz użyty do odszyfrowania\n",
    "\n",
    "    Zwraca:\n",
    "        odszyfrowana wiadomość\n",
    "\n",
    "    Przykład użycia:\n",
    "    >>> deszyfruj('YVBGFLBBCTLGZAMXCSJFIFNVICD', 'FOX')\n",
    "    'THEBROWNFOXJUMPSOVERLAZYDOG'\n",
    "\n",
    "    Klucz może składać się z małych liter, ale zostaną zamienione na wielkie:\n",
    "    >>> deszyfruj('XETUIMMHUKN', 'programowanie')\n",
    "    'INFORMATYKA'\n",
    "\n",
    "    Wiadomość również może składać się z małych liter:\n",
    "    >>> deszyfruj('xetuimmhukn', 'programowanie')\n",
    "    'INFORMATYKA'\n",
    "    \"\"\"\n",
    "    return \"\".join([chr((ord(char) - ord(klucz.upper()[i % len(klucz)])) % 26 + 65)\n",
    "                    for i, char in enumerate(wiadomosc.upper())])"
   ]
  },
  {
   "cell_type": "code",
   "execution_count": 4,
   "metadata": {},
   "outputs": [],
   "source": [
    "def deszyfruj_klucz(wiadomosc, dlugosc_klucza):\n",
    "    \"\"\"Szuka możliwego klucza, jakim została zakodowana wiadomość\n",
    "\n",
    "    Parametry:\n",
    "        wiadomosc - zakodowana wiadomość\n",
    "        dlugosc_klucza - długość klucza\n",
    "    Zwraca:\n",
    "        możliwy klucz szyfrujący wiadomość\n",
    "    \"\"\"\n",
    "    def compare(freq1, freq2):\n",
    "        delta = 0\n",
    "        for letter, frequency in freq1.items():\n",
    "            if letter not in freq2:\n",
    "                delta += frequency\n",
    "            else:\n",
    "                delta += abs(frequency - freq2[letter])\n",
    "        for letter, frequency in freq2.items():\n",
    "            if letter not in freq1:\n",
    "                delta += frequency\n",
    "        return delta\n",
    "\n",
    "    freq = {\n",
    "        'A': 0.099, 'B': 0.0147, 'C': 0.0436, 'D': 0.0325, 'E': 0.0877, 'F': 0.003, 'G': 0.0142,\n",
    "        'H': 0.0108, 'I': 0.0821, 'J': 0.0228, 'K': 0.0351, 'L': 0.0392, 'M': 0.028, 'N': 0.0572,\n",
    "        'O': 0.086, 'P': 0.0313, 'Q': 0.0014, 'R': 0.0469, 'S': 0.0498, 'T': 0.0398, 'U': 0.025,\n",
    "        'V': 0.004, 'W': 0.0465, 'X': 0.0002, 'Y': 0.0376, 'Z': 0.0653\n",
    "    }\n",
    "\n",
    "    wiadomosc = wiadomosc.replace('\\n', '')\n",
    "    decrypted_key = ''\n",
    "    for key_letter in range(dlugosc_klucza):\n",
    "        min_frequency_delta = 9999999999999999\n",
    "        min_frequency_letter = ''\n",
    "        substring = wiadomosc[key_letter::dlugosc_klucza]\n",
    "        for current_letter in freq.keys():\n",
    "            current_freq = Counter(deszyfruj(substring, current_letter))\n",
    "            current_delta = compare(freq, {key: value / len(substring) for key, value in current_freq.items()})\n",
    "            if min_frequency_delta > current_delta:\n",
    "                min_frequency_delta = current_delta\n",
    "                min_frequency_letter = current_letter\n",
    "        decrypted_key+=min_frequency_letter\n",
    "    return decrypted_key"
   ]
  },
  {
   "cell_type": "code",
   "execution_count": 5,
   "metadata": {},
   "outputs": [
    {
     "name": "stdout",
     "output_type": "stream",
     "text": [
      "STUDENT\n",
      "NAZNOSIMYPIASKUNAZWOZIMKAMIENIZBUDUJEMYDOMEKZDRZWICZKAMIDOSIENIZBUDUJEMYDOMEKZJASNYMIOKNAMIZEBYZLOTESLONKOSWIECILONADNAMIANADNASZYMDOMKIEMBEDZIEDACHSLOMIANYZPIEKNYCHZYTNICHSNOPKOWROWNOPOSZYWANYANADACHUBEDZIEGNIAZDODLABOCIANAZEBYNAMKLEKOTALODSAMEGORANA\n"
     ]
    }
   ],
   "source": [
    "mess = \"\"\"FTTQSFBERJLEFDMGUCABSAFEDQVXFB\n",
    "TEYQNBXGBHBFWDTGVMPAVTNEZBVHMLIAB\n",
    "RUOGYWXERXRQRDRCUVRLFAHEQEZB\n",
    "RXVBDYHLXMOSADGLQLIPBDHHDHATEB\n",
    "UQEQGSLTBQQHEDCHQOXVSCHHNVZLFRQVTFR\n",
    "TSMRDFRWKDLMFBWKWAHHDIZVBPFHJRWMROTHB\n",
    "EATVTWKYOXVSCHKABSSXRHYTTHWLEAT\n",
    "RXVBRNFCEYNSGTDHXVEZXYHLDRN\"\"\".replace('\\n', '')\n",
    "decrypted_key = deszyfruj_klucz(mess, 7)\n",
    "print(decrypted_key)\n",
    "print(deszyfruj(mess, decrypted_key))"
   ]
  },
  {
   "cell_type": "code",
   "execution_count": 6,
   "metadata": {},
   "outputs": [
    {
     "name": "stdout",
     "output_type": "stream",
     "text": [
      "Exception reporting mode: Plain\n",
      "Doctest mode is: ON\n",
      "Trying:\n",
      "    deszyfruj('YVBGFLBBCTLGZAMXCSJFIFNVICD', 'FOX')\n",
      "Expecting:\n",
      "    'THEBROWNFOXJUMPSOVERLAZYDOG'\n",
      "ok\n",
      "Trying:\n",
      "    deszyfruj('XETUIMMHUKN', 'programowanie')\n",
      "Expecting:\n",
      "    'INFORMATYKA'\n",
      "ok\n",
      "Trying:\n",
      "    deszyfruj('xetuimmhukn', 'programowanie')\n",
      "Expecting:\n",
      "    'INFORMATYKA'\n",
      "ok\n",
      "Trying:\n",
      "    zaszyfruj('THEBROWNFOXJUMPSOVERLAZYDOG', 'FOX')\n",
      "Expecting:\n",
      "    'YVBGFLBBCTLGZAMXCSJFIFNVICD'\n",
      "ok\n",
      "Trying:\n",
      "    zaszyfruj('INFORMATYKA', 'programowanie')\n",
      "Expecting:\n",
      "    'XETUIMMHUKN'\n",
      "ok\n",
      "Trying:\n",
      "    zaszyfruj('informatyka', 'programowanie')\n",
      "Expecting:\n",
      "    'XETUIMMHUKN'\n",
      "ok\n",
      "2 items had no tests:\n",
      "    __main__\n",
      "    __main__.deszyfruj_klucz\n",
      "2 items passed all tests:\n",
      "   3 tests in __main__.deszyfruj\n",
      "   3 tests in __main__.zaszyfruj\n",
      "6 tests in 4 items.\n",
      "6 passed and 0 failed.\n",
      "Test passed.\n",
      "Exception reporting mode: Context\n",
      "Doctest mode is: OFF\n"
     ]
    }
   ],
   "source": [
    "%doctest_mode\n",
    "import doctest\n",
    "doctest.testmod(verbose=True)\n",
    "%doctest_mode"
   ]
  }
 ],
 "metadata": {
  "kernelspec": {
   "display_name": "Python 3",
   "language": "python",
   "name": "python3"
  },
  "language_info": {
   "codemirror_mode": {
    "name": "ipython",
    "version": 3
   },
   "file_extension": ".py",
   "mimetype": "text/x-python",
   "name": "python",
   "nbconvert_exporter": "python",
   "pygments_lexer": "ipython3",
   "version": "3.8.5"
  }
 },
 "nbformat": 4,
 "nbformat_minor": 4
}
