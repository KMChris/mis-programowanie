{
 "cells": [
  {
   "cell_type": "markdown",
   "metadata": {},
   "source": [
    "# Zadanie 8"
   ]
  },
  {
   "cell_type": "code",
   "execution_count": 1,
   "metadata": {},
   "outputs": [],
   "source": [
    "from math import gcd"
   ]
  },
  {
   "cell_type": "code",
   "execution_count": 2,
   "metadata": {},
   "outputs": [],
   "source": [
    "def diophantine(A, B, C, K):\n",
    "    \"\"\"\n",
    "    Znajduje możliwości zakupu poszczególnych przedmiotów w sklepie\n",
    "    przy założeniu, że wydamy dokładnie kwotę K.\n",
    "\n",
    "    Parametry:\n",
    "        A - cena wełnianego szalika\n",
    "        B - cena książki popularnonaukowej\n",
    "        C - cena płyty ulubionego zespołu\n",
    "        K - kwota do wydania\n",
    "    Zwraca:\n",
    "        listę możliwości zakupu poszczególnych przedmiotów w sklepie\n",
    "    \"\"\"\n",
    "    AB_gcd = gcd(A, B)\n",
    "    ABC_gcd = gcd(AB_gcd, C)\n",
    "    if K % ABC_gcd != 0:\n",
    "        print('Brak rozwiązań')\n",
    "        return None\n",
    "    solutions, x, y, z = [], 0, 0, 0\n",
    "    while C * z <= K:\n",
    "        while C * z + B * y <= K:\n",
    "            x = (K - B * y - C * z) / A\n",
    "            if x.is_integer():\n",
    "                solutions.append((int(x), y, z))\n",
    "            y += 1\n",
    "        y = 0\n",
    "        z += 1\n",
    "    return solutions"
   ]
  },
  {
   "cell_type": "code",
   "execution_count": 3,
   "metadata": {},
   "outputs": [
    {
     "name": "stdout",
     "output_type": "stream",
     "text": [
      "Możliwość zakupu:\n",
      "3 wełniane szaliki\n",
      "0 książki popularnonaukowe\n",
      "0 płyty ulubionego zespołu\n",
      "\n",
      "Możliwość zakupu:\n",
      "0 wełniane szaliki\n",
      "2 książki popularnonaukowe\n",
      "1 płyty ulubionego zespołu\n",
      "\n"
     ]
    }
   ],
   "source": [
    "for solution in diophantine(202, 203, 200, 606):\n",
    "    print('Możliwość zakupu:')\n",
    "    print(solution[0], 'wełniane szaliki')\n",
    "    print(solution[1], 'książki popularnonaukowe')\n",
    "    print(solution[2], 'płyty ulubionego zespołu')\n",
    "    print()"
   ]
  }
 ],
 "metadata": {
  "kernelspec": {
   "display_name": "Python 3",
   "language": "python",
   "name": "python3"
  },
  "language_info": {
   "codemirror_mode": {
    "name": "ipython",
    "version": 3
   },
   "file_extension": ".py",
   "mimetype": "text/x-python",
   "name": "python",
   "nbconvert_exporter": "python",
   "pygments_lexer": "ipython3",
   "version": "3.8.5"
  }
 },
 "nbformat": 4,
 "nbformat_minor": 4
}
